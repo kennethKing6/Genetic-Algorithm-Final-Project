{
 "cells": [
  {
   "cell_type": "code",
   "execution_count": 3,
   "id": "a398bbb5",
   "metadata": {},
   "outputs": [],
   "source": [
    "import os\n",
    "import numpy as np \n",
    "from PIL import Image, ImageDraw, ImageFile\n",
    "from random import randint\n",
    "import random"
   ]
  },
  {
   "cell_type": "code",
   "execution_count": 4,
   "id": "62f3c1e6",
   "metadata": {},
   "outputs": [
    {
     "name": "stdout",
     "output_type": "stream",
     "text": [
      "12159315\n"
     ]
    }
   ],
   "source": [
    "original_img = Image.open(\"Mona_Lisa.jpg\")\n",
    "# pixel_value = list(im.getdata())\n",
    "# print(pixel_value)\n",
    "smallOriginalSize = int(len(list(original_img.getdata())) )\n",
    "imageList = list(original_img.getdata())\n",
    "print(smallOriginalSize)"
   ]
  },
  {
   "cell_type": "code",
   "execution_count": 5,
   "id": "9284d95f",
   "metadata": {},
   "outputs": [],
   "source": [
    "#Triangle area using 3 vertices\n",
    "def triangle_area(x1, y1, x2, y2, x3, y3):\n",
    "    return abs(1/2 * (x1*y2 + x2*y3 + x3*y1 - x1*y3 - x2*y1 - x3*y2))\n",
    "\n",
    "def triangle_points():\n",
    "    return [random.randint(0, original_img.width ),random.randint(0, original_img.height )]\n",
    "\n",
    "def make_triangle():\n",
    "    point1 = triangle_points()\n",
    "    point2 = triangle_points()\n",
    "    point3 = triangle_points()\n",
    "    area = triangle_area(point1[0],point1[1],point2[0],point2[1],point3[0],point3[1])\n",
    "    if area / (original_img.width*original_img.height) * 100 > 0.0001:\n",
    "        return make_triangle()\n",
    "    return (point1,point2,point3)\n",
    "\n",
    "def inArea(lis):\n",
    "    for i in lis:\n",
    "        try:\n",
    "            z = original_img[i[0],i[1]]\n",
    "        except:\n",
    "            return False\n",
    "    return True\n",
    "\n",
    "\n",
    "\n",
    "def colorTriangle(img):\n",
    "    for i in range(600):\n",
    "        triangle = make_triangle()\n",
    "        if triangle is not None:\n",
    "            p1Color = original_img.getpixel((triangle[0][0], triangle[0][1]))\n",
    "            p2Color = original_img.getpixel((triangle[1][0], triangle[1][1]))\n",
    "            p3Color = original_img.getpixel((triangle[2][0], triangle[2][1]))\n",
    "            color = (p1Color[0] + randint(-200, 200), p2Color[1] + randint(-200, 200), p3Color[2] + randint(-200, 200))\n",
    "            flat_triangle = [coord for point in triangle for coord in point]  # Convert to flat list\n",
    "            D = ImageDraw.Draw(img)\n",
    "            D.polygon(flat_triangle, fill=color)     \n",
    "\n",
    "def difference(original_img, new_img):\n",
    "    pic_1 = np.array(original_img, dtype=np.uint64).reshape((original_img.height, original_img.width, 3))\n",
    "    pic_2 = np.array(new_img, dtype=np.uint64).reshape(original_img.height, original_img.width, 3)\n",
    "    # sum difference need to be focused on color\n",
    "    return np.sqrt(np.square(pic_1 - pic_2).sum(axis=-1)).sum()\n",
    "\n",
    "def randomColor(frist,second,third):\n",
    "    return (frist + randint(-100,100),second + randint(-100,100),third + randint(-100,100))"
   ]
  },
  {
   "cell_type": "code",
   "execution_count": 6,
   "id": "2e531a3d",
   "metadata": {},
   "outputs": [],
   "source": [
    "blank = Image.new('RGB', (original_img.width, original_img.height), (255, 255, 255))"
   ]
  },
  {
   "cell_type": "code",
   "execution_count": 7,
   "id": "887d83c6",
   "metadata": {},
   "outputs": [
    {
     "data": {
      "text/plain": [
       "12159315"
      ]
     },
     "execution_count": 7,
     "metadata": {},
     "output_type": "execute_result"
    }
   ],
   "source": [
    "len(list(blank.getdata()))"
   ]
  },
  {
   "cell_type": "code",
   "execution_count": 8,
   "id": "18768d57",
   "metadata": {},
   "outputs": [
    {
     "data": {
      "text/plain": [
       "[840, 1689]"
      ]
     },
     "execution_count": 8,
     "metadata": {},
     "output_type": "execute_result"
    }
   ],
   "source": [
    "triangle_points()"
   ]
  },
  {
   "cell_type": "code",
   "execution_count": 9,
   "id": "4be70113",
   "metadata": {},
   "outputs": [
    {
     "name": "stdout",
     "output_type": "stream",
     "text": [
      "4300440523.910603\n"
     ]
    }
   ],
   "source": [
    "print(difference(original_img, blank))"
   ]
  },
  {
   "cell_type": "code",
   "execution_count": 10,
   "id": "92b79e83",
   "metadata": {},
   "outputs": [],
   "source": [
    "# newImageArray = []\n",
    "# for i in range(smallOriginalSize):\n",
    "#     current = imageList[i]\n",
    "#     newImageArray.append(randomColor(current[0],current[1],current[2]))"
   ]
  },
  {
   "cell_type": "code",
   "execution_count": null,
   "id": "ddd87ccb",
   "metadata": {},
   "outputs": [],
   "source": [
    "colorTriangle(blank)\n",
    "blank.save('output.png')\n",
    "blank.show()"
   ]
  },
  {
   "cell_type": "code",
   "execution_count": null,
   "id": "0d1eb73f",
   "metadata": {},
   "outputs": [],
   "source": []
  },
  {
   "cell_type": "code",
   "execution_count": null,
   "id": "bbf9d4bc",
   "metadata": {},
   "outputs": [],
   "source": []
  }
 ],
 "metadata": {
  "kernelspec": {
   "display_name": "Python 3 (ipykernel)",
   "language": "python",
   "name": "python3"
  },
  "language_info": {
   "codemirror_mode": {
    "name": "ipython",
    "version": 3
   },
   "file_extension": ".py",
   "mimetype": "text/x-python",
   "name": "python",
   "nbconvert_exporter": "python",
   "pygments_lexer": "ipython3",
   "version": "3.9.13"
  }
 },
 "nbformat": 4,
 "nbformat_minor": 5
}
