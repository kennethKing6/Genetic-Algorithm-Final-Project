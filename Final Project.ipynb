{
 "cells": [
  {
   "cell_type": "code",
   "execution_count": 250,
   "id": "31f40a79",
   "metadata": {},
   "outputs": [],
   "source": [
    "import os\n",
    "import numpy as np \n",
    "from PIL import Image, ImageDraw, ImageFile\n",
    "from random import randint\n",
    "import random\n",
    "import math"
   ]
  },
  {
   "cell_type": "code",
   "execution_count": 314,
   "id": "f3dd0a8f",
   "metadata": {},
   "outputs": [
    {
     "name": "stdout",
     "output_type": "stream",
     "text": [
      "12159315\n"
     ]
    }
   ],
   "source": [
    "original_img = Image.open(\"Mona_Lisa.jpg\")\n",
    "# pixel_value = list(im.getdata())\n",
    "# print(pixel_value)\n",
    "smallOriginalSize = int(len(list(original_img.getdata())) )\n",
    "imageList = list(original_img.getdata())\n",
    "print(smallOriginalSize)"
   ]
  },
  {
   "cell_type": "markdown",
   "id": "c34bbb75",
   "metadata": {},
   "source": [
    "# Generate the the triangle off of the original image"
   ]
  },
  {
   "cell_type": "code",
   "execution_count": 315,
   "id": "98e1dd6e",
   "metadata": {},
   "outputs": [],
   "source": [
    "#Triangle area using 3 vertices\n",
    "def triangle_area(x1, y1, x2, y2, x3, y3):\n",
    "    return abs(1/2 * (x1*y2 + x2*y3 + x3*y1 - x1*y3 - x2*y1 - x3*y2))\n",
    "\n",
    "def triangle_points():\n",
    "    return [random.randint(0, original_img.width ),random.randint(0, original_img.height )]\n",
    "\n",
    "def triangle_points():\n",
    "    return [random.randint(0, original_img.width ),random.randint(0, original_img.height )]\n",
    "\n",
    "def make_triangle():\n",
    "    point1 = triangle_points()\n",
    "    point2 = triangle_points()\n",
    "    point3 = triangle_points()\n",
    "    area = triangle_area(point1[0],point1[1],point2[0],point2[1],point3[0],point3[1])\n",
    "#     if area / (int(original_img.width * 0.5)*int(original_img.height * 0.5)) * 100 > 3:\n",
    "    if area / (int(original_img.width)*int(original_img.height)) * 100 > 3:\n",
    "        return make_triangle()\n",
    "    return (point1,point2,point3)\n",
    "\n",
    "def inArea(lis):\n",
    "    for i in lis:\n",
    "        try:\n",
    "            z = original_img[i[0],i[1]]\n",
    "        except:\n",
    "            return False\n",
    "    return True\n",
    "\n",
    "\n",
    "\n",
    "def colorTriangle(img):\n",
    "    for i in range(250):\n",
    "        triangle = make_triangle()\n",
    "        if triangle is not None:\n",
    "            p1Color = original_img.getpixel((triangle[0][0], triangle[0][1]))\n",
    "            p1Color = randomColor(p1Color[0],p1Color[1],p1Color[2])\n",
    "            p2Color = original_img.getpixel((triangle[1][0], triangle[1][1]))\n",
    "            p1Color = randomColor(p1Color[0],p1Color[1],p1Color[2])\n",
    "            p3Color = original_img.getpixel((triangle[2][0], triangle[2][1]))\n",
    "            color = (p1Color[0] + randint(-100, 100), p2Color[1] + randint(-100, 100), p3Color[2] + randint(-100, 100))\n",
    "            flat_triangle = [coord for point in triangle for coord in point]  # Convert to flat list\n",
    "            D = ImageDraw.Draw(img)\n",
    "            D.polygon(flat_triangle, fill=color)     \n",
    "\n",
    "def difference(original_img, new_img):\n",
    "    pic_1 = np.array(original_img, dtype=np.uint64).reshape((original_img.height, original_img.width, 3))\n",
    "    pic_2 = np.array(new_img, dtype=np.uint64).reshape(original_img.height, original_img.width, 3)\n",
    "    # sum difference need to be focused on color\n",
    "    return np.sqrt(np.square(pic_1 - pic_2).sum(axis=-1)).sum()\n",
    "\n",
    "def randomColor(frist,second,third):\n",
    "    return (frist + randint(-100,100),second + randint(-100,100),third + randint(-100,100))"
   ]
  },
  {
   "cell_type": "code",
   "execution_count": 316,
   "id": "7d3d3632",
   "metadata": {},
   "outputs": [],
   "source": [
    "blank = Image.new('RGB', (original_img.width, original_img.height), (255, 255, 255))"
   ]
  },
  {
   "cell_type": "code",
   "execution_count": 317,
   "id": "1941eb94",
   "metadata": {},
   "outputs": [
    {
     "data": {
      "text/plain": [
       "12159315"
      ]
     },
     "execution_count": 317,
     "metadata": {},
     "output_type": "execute_result"
    }
   ],
   "source": [
    "len(list(blank.getdata()))"
   ]
  },
  {
   "cell_type": "code",
   "execution_count": 318,
   "id": "559b07a1",
   "metadata": {},
   "outputs": [
    {
     "data": {
      "text/plain": [
       "[1698, 2721]"
      ]
     },
     "execution_count": 318,
     "metadata": {},
     "output_type": "execute_result"
    }
   ],
   "source": [
    "triangle_points()"
   ]
  },
  {
   "cell_type": "code",
   "execution_count": 319,
   "id": "acfb219e",
   "metadata": {},
   "outputs": [
    {
     "name": "stdout",
     "output_type": "stream",
     "text": [
      "4300440523.910603\n"
     ]
    }
   ],
   "source": [
    "print(difference(original_img, blank))"
   ]
  },
  {
   "cell_type": "code",
   "execution_count": 321,
   "id": "22014292",
   "metadata": {},
   "outputs": [],
   "source": [
    "# newImageArray = []\n",
    "# for i in range(smallOriginalSize):\n",
    "#     current = imageList[i]\n",
    "#     newImageArray.append(randomColor(current[0],current[1],current[2]))\n",
    "colorTriangle(blank)\n",
    "blank.save('output.png')\n",
    "blank.show()"
   ]
  },
  {
   "cell_type": "markdown",
   "id": "f3c5250f",
   "metadata": {},
   "source": [
    "# Genetic Algorithm "
   ]
  },
  {
   "cell_type": "markdown",
   "id": "3b6dcf92",
   "metadata": {},
   "source": [
    "### 1 - generate initial population"
   ]
  },
  {
   "cell_type": "code",
   "execution_count": 330,
   "id": "5c155b89",
   "metadata": {},
   "outputs": [],
   "source": [
    "population = []"
   ]
  },
  {
   "cell_type": "code",
   "execution_count": 331,
   "id": "a807a117",
   "metadata": {},
   "outputs": [],
   "source": [
    "for i in range(4):\n",
    "    currentImage = Image.new('RGB', (original_img.width, original_img.height), (255, 255, 255))\n",
    "    colorTriangle(currentImage)\n",
    "    score = difference(original_img,currentImage)\n",
    "    population.append({'score':score,'image':currentImage})\n",
    "# blank.save('output.png')\n",
    "# blank.show()\n",
    "currentImage.show()"
   ]
  },
  {
   "cell_type": "code",
   "execution_count": 332,
   "id": "6b56cb2e",
   "metadata": {},
   "outputs": [],
   "source": [
    "sorted_data = sorted(population, key=lambda x: x['score'])\n",
    "sorted_data.reverse()"
   ]
  },
  {
   "cell_type": "markdown",
   "id": "0f240aeb",
   "metadata": {},
   "source": [
    "### 2 - Selection"
   ]
  },
  {
   "cell_type": "code",
   "execution_count": 333,
   "id": "533354fc",
   "metadata": {},
   "outputs": [],
   "source": [
    "parent1 = sorted_data[0]\n",
    "parent2 = sorted_data[1]"
   ]
  },
  {
   "cell_type": "markdown",
   "id": "12b903d8",
   "metadata": {},
   "source": [
    "### 3 - Crossover && Mutation"
   ]
  },
  {
   "cell_type": "code",
   "execution_count": 340,
   "id": "215f8a47",
   "metadata": {
    "scrolled": true
   },
   "outputs": [],
   "source": [
    "parent1Values = parent1['image'].getdata()\n",
    "parent2Values = parent2['image'].getdata()\n",
    "rnge = 255\n",
    "\n",
    "# Crossover\n",
    "def crossover(parent1, parent2):\n",
    "    crossover_point = np.random.randint(0, int(len(parent1)))\n",
    "    p1 = np.array(parent1)\n",
    "    p2 = np.array(parent2)\n",
    "    child1 = p1[:int(crossover_point/2)] + p2[int(crossover_point/2):]\n",
    "    child2 = p2[:int(crossover_point/2)] + p1[int(crossover_point/2):]\n",
    "    return child1, child2\n",
    "\n",
    "def uniform_crossover(parent1, parent2):\n",
    "    max_length = max(len(parent1), len(parent2))\n",
    "    child1 = []\n",
    "    child2 = []\n",
    "    for i in range(max_length):\n",
    "        if i < len(parent1) and i < len(parent2):\n",
    "            if random.random() < 0.5:\n",
    "                child1.append(parent1[i])\n",
    "                child2.append(parent2[i])\n",
    "            else:\n",
    "                child1.append(parent2[i])\n",
    "                child2.append(parent1[i])\n",
    "        elif i < len(parent1):\n",
    "            child1.append(parent1[i])\n",
    "        else:\n",
    "            child2.append(parent2[i])\n",
    "    return child1, child2\n",
    "\n",
    "# Mutation\n",
    "def mutate(parent1, parent2, individual, mutation_rate):\n",
    "    currentIndividual = individual\n",
    "    for i in range(len(currentIndividual)):\n",
    "        if random.random() < mutation_rate:\n",
    "            new_value = (255, 255, 255)\n",
    "            currentIndividual[i] = new_value\n",
    "    child_result1 = difference(original_img, currentIndividual)\n",
    "    child_result2 = difference(original_img, currentIndividual)\n",
    "    parent_result1 = difference(original_img, parent1)\n",
    "    parent_result2 = difference(original_img, parent2)\n",
    "    if child_result1 < 10000 and child_result2 < 10000:\n",
    "        return {'isValid':True,'newParent':currentIndividual}\n",
    "    \n",
    "    return  {'isValid':False,'newParent':individual}\n",
    "\n"
   ]
  },
  {
   "cell_type": "code",
   "execution_count": 341,
   "id": "518142b7",
   "metadata": {},
   "outputs": [],
   "source": [
    "child1,child2 = uniform_crossover(original_img.getdata(),parent1Values)"
   ]
  },
  {
   "cell_type": "code",
   "execution_count": 342,
   "id": "4339bcd8",
   "metadata": {},
   "outputs": [],
   "source": [
    "mutedChild1 = mutate( parent1['image'], parent2['image'],child1,0.01)"
   ]
  },
  {
   "cell_type": "code",
   "execution_count": 343,
   "id": "1178c16c",
   "metadata": {},
   "outputs": [],
   "source": [
    "\n",
    "# Create a blank image\n",
    "mutateImg = Image.new('RGB', ( int(parent1['image'].width), int(parent1['image'].height)), (255, 255, 255))\n",
    "\n",
    "# Create a pixel array\n",
    "\n",
    "# Add the pixel array to the blank image\n",
    "mutateImg.putdata(mutedChild1['newParent'])\n",
    "\n",
    "# Save or display the image\n",
    "mutateImg.save('mutated1.png')\n",
    "mutateImg.show()"
   ]
  },
  {
   "cell_type": "code",
   "execution_count": 344,
   "id": "6be269d8",
   "metadata": {},
   "outputs": [],
   "source": [
    "mutedChild2  = mutate( parent1['image'], parent2['image'],child1,0.04)"
   ]
  },
  {
   "cell_type": "code",
   "execution_count": 345,
   "id": "2f6a0237",
   "metadata": {},
   "outputs": [],
   "source": [
    "\n",
    "# Create a blank image\n",
    "mutateImg = Image.new('RGB', ( int(parent1['image'].width), int(parent1['image'].height)), (255, 255, 255))\n",
    "\n",
    "# Create a pixel array\n",
    "\n",
    "# Add the pixel array to the blank image\n",
    "mutateImg.putdata(mutedChild2['newParent'])\n",
    "\n",
    "# Save or display the image\n",
    "mutateImg.save('mutated2.png')\n",
    "mutateImg.show()"
   ]
  },
  {
   "cell_type": "markdown",
   "id": "d4ee6e5f",
   "metadata": {},
   "source": [
    "# Final Result - Abstract Art generation of the original image"
   ]
  },
  {
   "cell_type": "code",
   "execution_count": 346,
   "id": "c1db6077",
   "metadata": {},
   "outputs": [],
   "source": [
    "\n",
    "# Create a blank image\n",
    "blankChild = Image.new('RGB', (50, 50), (255, 255, 255))\n",
    "\n",
    "# Create a pixel array\n",
    "\n",
    "# Add the pixel array to the blank image\n",
    "blank.putdata(child1)\n",
    "\n",
    "# Save or display the image\n",
    "blank.save('output.png')\n",
    "blank.show()"
   ]
  },
  {
   "cell_type": "markdown",
   "id": "f0218546",
   "metadata": {},
   "source": [
    "# Statistics"
   ]
  },
  {
   "cell_type": "code",
   "execution_count": 347,
   "id": "c8f9140f",
   "metadata": {},
   "outputs": [],
   "source": [
    "import matplotlib.pyplot as plt"
   ]
  },
  {
   "cell_type": "code",
   "execution_count": 348,
   "id": "f3a38eb4",
   "metadata": {},
   "outputs": [],
   "source": [
    "# Define the x and y values\n",
    "x = [0,1,2,3,]\n",
    "y = [difference(original_img,parent1Values),difference(original_img,parent2Values),difference(original_img,child1),difference(original_img,child2)]"
   ]
  },
  {
   "cell_type": "code",
   "execution_count": 349,
   "id": "c4cd3ba2",
   "metadata": {},
   "outputs": [
    {
     "data": {
      "image/png": "[encoded data removed]",
      "text/plain": [
       "<Figure size 432x288 with 1 Axes>"
      ]
     },
     "metadata": {
      "needs_background": "light"
     },
     "output_type": "display_data"
    }
   ],
   "source": [
    "# Plot the points\n",
    "plt.plot(x, y)\n",
    "\n",
    "# Label the axes\n",
    "plt.xlabel('x - axis')\n",
    "plt.ylabel('y - axis')\n",
    "\n",
    "# Add a title\n",
    "plt.title('Fitness function in the population')\n",
    "\n",
    "# Display the plot\n",
    "plt.show()"
   ]
  },
  {
   "cell_type": "code",
   "execution_count": 350,
   "id": "ac109460",
   "metadata": {},
   "outputs": [
    {
     "data": {
      "image/png": "[encoded data removed]",
      "text/plain": [
       "<Figure size 432x288 with 1 Axes>"
      ]
     },
     "metadata": {
      "needs_background": "light"
     },
     "output_type": "display_data"
    }
   ],
   "source": [
    "plt.scatter(x, y)\n",
    "plt.show()"
   ]
  },
  {
   "cell_type": "code",
   "execution_count": 351,
   "id": "ad109ca1",
   "metadata": {},
   "outputs": [
    {
     "data": {
      "image/png": "[encoded data removed]",
      "text/plain": [
       "<Figure size 432x288 with 1 Axes>"
      ]
     },
     "metadata": {
      "needs_background": "light"
     },
     "output_type": "display_data"
    }
   ],
   "source": [
    "plt.bar(x,y)\n",
    "plt.show()"
   ]
  },
  {
   "cell_type": "code",
   "execution_count": null,
   "id": "3675f7d3",
   "metadata": {},
   "outputs": [],
   "source": []
  }
 ],
 "metadata": {
  "kernelspec": {
   "display_name": "Python 3",
   "language": "python",
   "name": "python3"
  },
  "language_info": {
   "codemirror_mode": {
    "name": "ipython",
    "version": 3
   },
   "file_extension": ".py",
   "mimetype": "text/x-python",
   "name": "python",
   "nbconvert_exporter": "python",
   "pygments_lexer": "ipython3",
   "version": "3.8.8"
  }
 },
 "nbformat": 4,
 "nbformat_minor": 5
}
