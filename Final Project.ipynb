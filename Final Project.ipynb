{
 "cells": [
  {
   "cell_type": "code",
   "execution_count": 227,
   "id": "31f40a79",
   "metadata": {},
   "outputs": [],
   "source": [
    "import os\n",
    "import numpy as np \n",
    "from PIL import Image, ImageDraw, ImageFile\n",
    "from random import randint\n",
    "import random\n",
    "import math"
   ]
  },
  {
   "cell_type": "code",
   "execution_count": 228,
   "id": "f3dd0a8f",
   "metadata": {},
   "outputs": [
    {
     "name": "stdout",
     "output_type": "stream",
     "text": [
      "12159315\n"
     ]
    }
   ],
   "source": [
    "original_img = Image.open(\"Mona_Lisa.jpg\")\n",
    "# pixel_value = list(im.getdata())\n",
    "# print(pixel_value)\n",
    "smallOriginalSize = int(len(list(original_img.getdata())) )\n",
    "imageList = list(original_img.getdata())\n",
    "print(smallOriginalSize)"
   ]
  },
  {
   "cell_type": "code",
   "execution_count": 238,
   "id": "98e1dd6e",
   "metadata": {},
   "outputs": [],
   "source": [
    "#Triangle area using 3 vertices\n",
    "def triangle_area(x1, y1, x2, y2, x3, y3):\n",
    "    return abs(1/2 * (x1*y2 + x2*y3 + x3*y1 - x1*y3 - x2*y1 - x3*y2))\n",
    "\n",
    "def triangle_points():\n",
    "    return [random.randint(0, original_img.width ),random.randint(0, original_img.height )]\n",
    "\n",
    "def triangle_points():\n",
    "    return [random.randint(0, original_img.width ),random.randint(0, original_img.height )]\n",
    "\n",
    "def make_triangle():\n",
    "    point1 = triangle_points()\n",
    "    point2 = triangle_points()\n",
    "    point3 = triangle_points()\n",
    "    area = triangle_area(point1[0],point1[1],point2[0],point2[1],point3[0],point3[1])\n",
    "    if area / (int(original_img.width * 0.5)*int(original_img.height * 0.5)) * 100 > 3:\n",
    "        return make_triangle()\n",
    "    return (point1,point2,point3)\n",
    "\n",
    "def inArea(lis):\n",
    "    for i in lis:\n",
    "        try:\n",
    "            z = original_img[i[0],i[1]]\n",
    "        except:\n",
    "            return False\n",
    "    return True\n",
    "\n",
    "\n",
    "\n",
    "def colorTriangle(img):\n",
    "    for i in range(250):\n",
    "        triangle = make_triangle()\n",
    "        if triangle is not None:\n",
    "            p1Color = original_img.getpixel((triangle[0][0], triangle[0][1]))\n",
    "            p1Color = randomColor(p1Color[0],p1Color[1],p1Color[2])\n",
    "            p2Color = original_img.getpixel((triangle[1][0], triangle[1][1]))\n",
    "            p1Color = randomColor(p1Color[0],p1Color[1],p1Color[2])\n",
    "            p3Color = original_img.getpixel((triangle[2][0], triangle[2][1]))\n",
    "            color = (p1Color[0] + randint(-100, 100), p2Color[1] + randint(-100, 100), p3Color[2] + randint(-100, 100))\n",
    "            flat_triangle = [coord for point in triangle for coord in point]  # Convert to flat list\n",
    "            D = ImageDraw.Draw(img)\n",
    "            D.polygon(flat_triangle, fill=color)     \n",
    "\n",
    "def difference(original_img, new_img):\n",
    "    pic_1 = np.array(original_img, dtype=np.uint64).reshape((original_img.height, original_img.width, 3))\n",
    "    pic_2 = np.array(new_img, dtype=np.uint64).reshape(original_img.height, original_img.width, 3)\n",
    "    # sum difference need to be focused on color\n",
    "    return np.sqrt(np.square(pic_1 - pic_2).sum(axis=-1)).sum()\n",
    "\n",
    "def randomColor(frist,second,third):\n",
    "    return (frist + randint(-100,100),second + randint(-100,100),third + randint(-100,100))"
   ]
  },
  {
   "cell_type": "code",
   "execution_count": 230,
   "id": "7d3d3632",
   "metadata": {},
   "outputs": [],
   "source": [
    "blank = Image.new('RGB', (original_img.width, original_img.height), (255, 255, 255))"
   ]
  },
  {
   "cell_type": "code",
   "execution_count": 231,
   "id": "1941eb94",
   "metadata": {},
   "outputs": [
    {
     "data": {
      "text/plain": [
       "12159315"
      ]
     },
     "execution_count": 231,
     "metadata": {},
     "output_type": "execute_result"
    }
   ],
   "source": [
    "len(list(blank.getdata()))"
   ]
  },
  {
   "cell_type": "code",
   "execution_count": 232,
   "id": "559b07a1",
   "metadata": {},
   "outputs": [
    {
     "data": {
      "text/plain": [
       "[213, 3205]"
      ]
     },
     "execution_count": 232,
     "metadata": {},
     "output_type": "execute_result"
    }
   ],
   "source": [
    "triangle_points()"
   ]
  },
  {
   "cell_type": "code",
   "execution_count": 233,
   "id": "acfb219e",
   "metadata": {},
   "outputs": [
    {
     "name": "stdout",
     "output_type": "stream",
     "text": [
      "4300440523.910603\n"
     ]
    }
   ],
   "source": [
    "print(difference(original_img, blank))"
   ]
  },
  {
   "cell_type": "code",
   "execution_count": 239,
   "id": "22014292",
   "metadata": {},
   "outputs": [],
   "source": [
    "# newImageArray = []\n",
    "# for i in range(smallOriginalSize):\n",
    "#     current = imageList[i]\n",
    "#     newImageArray.append(randomColor(current[0],current[1],current[2]))\n",
    "colorTriangle(blank)\n",
    "blank.save('output.png')\n",
    "blank.show()"
   ]
  },
  {
   "cell_type": "markdown",
   "id": "0c359ab4",
   "metadata": {},
   "source": [
    "# This is now initialization our population"
   ]
  },
  {
   "cell_type": "code",
   "execution_count": 112,
   "id": "10cf8493",
   "metadata": {},
   "outputs": [],
   "source": [
    "population = []"
   ]
  },
  {
   "cell_type": "code",
   "execution_count": 113,
   "id": "a807a117",
   "metadata": {},
   "outputs": [],
   "source": [
    "for i in range(4):\n",
    "    currentImage = Image.new('RGB', (original_img.width, original_img.height), (255, 255, 255))\n",
    "    colorTriangle(currentImage)\n",
    "    score = difference(original_img,currentImage)\n",
    "    population.append({'score':score,'image':currentImage})\n",
    "# blank.save('output.png')\n",
    "# blank.show()"
   ]
  },
  {
   "cell_type": "code",
   "execution_count": 114,
   "id": "6b56cb2e",
   "metadata": {},
   "outputs": [],
   "source": [
    "sorted_data = sorted(population, key=lambda x: x['score'])\n",
    "sorted_data.reverse()"
   ]
  },
  {
   "cell_type": "code",
   "execution_count": 115,
   "id": "533354fc",
   "metadata": {},
   "outputs": [],
   "source": [
    "parent1 = sorted_data[0]\n",
    "parent2 = sorted_data[1]"
   ]
  },
  {
   "cell_type": "code",
   "execution_count": 169,
   "id": "fc07fa2f",
   "metadata": {
    "scrolled": true
   },
   "outputs": [],
   "source": [
    "parent1Values = parent1['image'].getdata()\n",
    "parent2Values = parent2['image'].getdata()\n",
    "rnge = 255\n",
    "# offspring = []\n",
    "# def convert(num):\n",
    "#     if num > rnge:\n",
    "#         return int(num%rnge)\n",
    "#     return int(num)\n",
    "# for i in range(len(parent1Values)):\n",
    "#     a = convert(math.sqrt(math.pow(parent1Values[i][0],2) + math.pow(parent2Values[i][0],2)))\n",
    "#     b = convert(math.sqrt(math.pow(parent1Values[i][1],2) + math.pow(parent2Values[i][1],2)))\n",
    "#     c = convert(math.sqrt(math.pow(parent1Values[i][2],2) + math.pow(parent2Values[i][2],2)))\n",
    "#     offspring.append((a,b,c))\n",
    "offspring = []\n",
    "image = Image.new(\"RGB\", (original_img.width, original_img.height))\n",
    "D = ImageDraw.Draw(image)\n",
    "def getCoords(target_color):\n",
    "    # Iterate through the image to find the coordinates of the target color\n",
    "    color_coordinates = []\n",
    "    for x in range(original_img.width):\n",
    "        for y in range(original_img.height):\n",
    "            if parent1.getpixel((x, y)) == target_color:\n",
    "                color_coordinates.append((x, y))\n",
    "    print(color_coordinates)\n",
    "\n",
    "# mutation\n",
    "def convert(num):\n",
    "    if num > rnge:\n",
    "        return int(num % rnge)\n",
    "    return int(num)\n",
    "\n",
    "# crossover\n",
    "for i in range(len(parent1Values)):\n",
    "    # Averaging the RGB values\n",
    "    a = convert((parent1Values[i][0] + parent2Values[i][0]) // 2)\n",
    "    b = convert((parent1Values[i][1] + parent2Values[i][1]) // 2)\n",
    "    c = convert((parent1Values[i][2] + parent2Values[i][2]) // 2)\n",
    "    offspring.append((a, b, c))\n",
    "#     color = (a, b, c)"
   ]
  },
  {
   "cell_type": "code",
   "execution_count": 178,
   "id": "2d392bd6",
   "metadata": {},
   "outputs": [],
   "source": [
    "flat_triangle = []\n",
    "for point in offspring:\n",
    "    for coord in point:\n",
    "        flat_triangle.append(coord)"
   ]
  },
  {
   "cell_type": "code",
   "execution_count": 225,
   "id": "2d3571fe",
   "metadata": {},
   "outputs": [
    {
     "name": "stdout",
     "output_type": "stream",
     "text": [
      "offspring 1\n",
      "parent1Values 12159315\n"
     ]
    },
    {
     "ename": "KeyError",
     "evalue": "12159314",
     "output_type": "error",
     "traceback": [
      "\u001b[1;31m---------------------------------------------------------------------------\u001b[0m",
      "\u001b[1;31mKeyError\u001b[0m                                  Traceback (most recent call last)",
      "\u001b[1;32m~\\AppData\\Local\\Temp\\ipykernel_31296\\3105535004.py\u001b[0m in \u001b[0;36m<module>\u001b[1;34m\u001b[0m\n\u001b[0;32m     14\u001b[0m     \u001b[1;32mfor\u001b[0m \u001b[0my1\u001b[0m \u001b[1;32min\u001b[0m \u001b[0mrange\u001b[0m\u001b[1;33m(\u001b[0m\u001b[0moriginal_img\u001b[0m\u001b[1;33m.\u001b[0m\u001b[0mheight\u001b[0m\u001b[1;33m)\u001b[0m\u001b[1;33m:\u001b[0m\u001b[1;33m\u001b[0m\u001b[1;33m\u001b[0m\u001b[0m\n\u001b[0;32m     15\u001b[0m         \u001b[0moffspring\u001b[0m\u001b[1;33m[\u001b[0m\u001b[1;33m(\u001b[0m\u001b[0mx1\u001b[0m\u001b[1;33m,\u001b[0m \u001b[0my1\u001b[0m\u001b[1;33m)\u001b[0m\u001b[1;33m]\u001b[0m \u001b[1;33m=\u001b[0m \u001b[0moriginal_img\u001b[0m\u001b[1;33m.\u001b[0m\u001b[0mgetpixel\u001b[0m\u001b[1;33m(\u001b[0m\u001b[1;33m(\u001b[0m\u001b[0mx1\u001b[0m\u001b[1;33m,\u001b[0m \u001b[0my1\u001b[0m\u001b[1;33m)\u001b[0m\u001b[1;33m)\u001b[0m\u001b[1;33m\u001b[0m\u001b[1;33m\u001b[0m\u001b[0m\n\u001b[1;32m---> 16\u001b[1;33m         \u001b[0mdraw\u001b[0m\u001b[1;33m.\u001b[0m\u001b[0mpoint\u001b[0m\u001b[1;33m(\u001b[0m\u001b[1;33m(\u001b[0m\u001b[0mx1\u001b[0m\u001b[1;33m,\u001b[0m \u001b[0my1\u001b[0m\u001b[1;33m)\u001b[0m\u001b[1;33m,\u001b[0m \u001b[0mfill\u001b[0m\u001b[1;33m=\u001b[0m\u001b[0moffspring\u001b[0m\u001b[1;33m[\u001b[0m\u001b[0mi\u001b[0m\u001b[1;33m]\u001b[0m\u001b[1;33m)\u001b[0m  \u001b[1;31m# 'i' is not defined in your loop. You might need to revise this.\u001b[0m\u001b[1;33m\u001b[0m\u001b[1;33m\u001b[0m\u001b[0m\n\u001b[0m\u001b[0;32m     17\u001b[0m \u001b[1;33m\u001b[0m\u001b[0m\n\u001b[0;32m     18\u001b[0m \u001b[1;31m# Save and display the image\u001b[0m\u001b[1;33m\u001b[0m\u001b[1;33m\u001b[0m\u001b[0m\n",
      "\u001b[1;31mKeyError\u001b[0m: 12159314"
     ]
    }
   ],
   "source": [
    "image = Image.new(\"RGB\", (original_img.width, original_img.height), \"white\")\n",
    "draw = ImageDraw.Draw(image)\n",
    "\n",
    "# Define the coordinates of the polygon\n",
    "# This is a flat list of (x, y) coordinate pairs\n",
    "print(\"offspring\",len(offspring))\n",
    "print(\"parent1Values\",len(parent1Values))\n",
    "\n",
    "for x1 in range(original_img.width):\n",
    "    for y1 in range(original_img.height):\n",
    "        offerspring[x1,y1] = original_img[x1,y1]\n",
    "        draw.point(offerspring[x1,y1], fill=parent1Values[i])\n",
    "\n",
    "# Draw the polygon\n",
    "# for i in range(len(offspring)):\n",
    "#     end = i + 1\n",
    "#     if(end < len(flat_triangle)):\n",
    "#         draw.point(, fill=parent1Values[i])\n",
    "\n",
    "# Save and display the image\n",
    "# image.save(\"triangle_image.png\")\n",
    "# image.show()"
   ]
  },
  {
   "cell_type": "code",
   "execution_count": null,
   "id": "45498954",
   "metadata": {},
   "outputs": [],
   "source": []
  }
 ],
 "metadata": {
  "kernelspec": {
   "display_name": "Python 3 (ipykernel)",
   "language": "python",
   "name": "python3"
  },
  "language_info": {
   "codemirror_mode": {
    "name": "ipython",
    "version": 3
   },
   "file_extension": ".py",
   "mimetype": "text/x-python",
   "name": "python",
   "nbconvert_exporter": "python",
   "pygments_lexer": "ipython3",
   "version": "3.9.13"
  }
 },
 "nbformat": 4,
 "nbformat_minor": 5
}
