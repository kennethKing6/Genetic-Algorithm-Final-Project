{
 "cells": [
  {
   "cell_type": "code",
   "execution_count": 1,
   "id": "31f40a79",
   "metadata": {},
   "outputs": [],
   "source": [
    "import os\n",
    "import numpy as np \n",
    "from PIL import Image, ImageDraw, ImageFile\n",
    "from random import randint\n",
    "import random\n",
    "import math"
   ]
  },
  {
   "cell_type": "code",
   "execution_count": 2,
   "id": "f3dd0a8f",
   "metadata": {},
   "outputs": [
    {
     "name": "stdout",
     "output_type": "stream",
     "text": [
      "12159315\n"
     ]
    }
   ],
   "source": [
    "original_img = Image.open(\"Mona_Lisa.jpg\")\n",
    "# pixel_value = list(im.getdata())\n",
    "# print(pixel_value)\n",
    "smallOriginalSize = int(len(list(original_img.getdata())) )\n",
    "imageList = list(original_img.getdata())\n",
    "print(smallOriginalSize)"
   ]
  },
  {
   "cell_type": "code",
   "execution_count": 3,
   "id": "98e1dd6e",
   "metadata": {},
   "outputs": [],
   "source": [
    "#Triangle area using 3 vertices\n",
    "def triangle_area(x1, y1, x2, y2, x3, y3):\n",
    "    return abs(1/2 * (x1*y2 + x2*y3 + x3*y1 - x1*y3 - x2*y1 - x3*y2))\n",
    "\n",
    "def triangle_points():\n",
    "    return [random.randint(0, original_img.width ),random.randint(0, original_img.height )]\n",
    "\n",
    "def triangle_points():\n",
    "    return [random.randint(0, original_img.width ),random.randint(0, original_img.height )]\n",
    "\n",
    "def make_triangle():\n",
    "    point1 = triangle_points()\n",
    "    point2 = triangle_points()\n",
    "    point3 = triangle_points()\n",
    "    area = triangle_area(point1[0],point1[1],point2[0],point2[1],point3[0],point3[1])\n",
    "    if area / (int(original_img.width * 0.5)*int(original_img.height * 0.5)) * 100 > 3:\n",
    "        return make_triangle()\n",
    "    return (point1,point2,point3)\n",
    "\n",
    "def inArea(lis):\n",
    "    for i in lis:\n",
    "        try:\n",
    "            z = original_img[i[0],i[1]]\n",
    "        except:\n",
    "            return False\n",
    "    return True\n",
    "\n",
    "\n",
    "\n",
    "def colorTriangle(img):\n",
    "    for i in range(250):\n",
    "        triangle = make_triangle()\n",
    "        if triangle is not None:\n",
    "            p1Color = original_img.getpixel((triangle[0][0], triangle[0][1]))\n",
    "            p1Color = randomColor(p1Color[0],p1Color[1],p1Color[2])\n",
    "            p2Color = original_img.getpixel((triangle[1][0], triangle[1][1]))\n",
    "            p1Color = randomColor(p1Color[0],p1Color[1],p1Color[2])\n",
    "            p3Color = original_img.getpixel((triangle[2][0], triangle[2][1]))\n",
    "            color = (p1Color[0] + randint(-100, 100), p2Color[1] + randint(-100, 100), p3Color[2] + randint(-100, 100))\n",
    "            flat_triangle = [coord for point in triangle for coord in point]  # Convert to flat list\n",
    "            D = ImageDraw.Draw(img)\n",
    "            D.polygon(flat_triangle, fill=color)     \n",
    "\n",
    "def difference(original_img, new_img):\n",
    "    pic_1 = np.array(original_img, dtype=np.uint64).reshape((original_img.height, original_img.width, 3))\n",
    "    pic_2 = np.array(new_img, dtype=np.uint64).reshape(original_img.height, original_img.width, 3)\n",
    "    # sum difference need to be focused on color\n",
    "    return np.sqrt(np.square(pic_1 - pic_2).sum(axis=-1)).sum()\n",
    "\n",
    "def randomColor(frist,second,third):\n",
    "    return (frist + randint(-100,100),second + randint(-100,100),third + randint(-100,100))"
   ]
  },
  {
   "cell_type": "code",
   "execution_count": 4,
   "id": "7d3d3632",
   "metadata": {},
   "outputs": [],
   "source": [
    "blank = Image.new('RGB', (original_img.width, original_img.height), (255, 255, 255))"
   ]
  },
  {
   "cell_type": "code",
   "execution_count": 5,
   "id": "1941eb94",
   "metadata": {},
   "outputs": [
    {
     "data": {
      "text/plain": [
       "12159315"
      ]
     },
     "execution_count": 5,
     "metadata": {},
     "output_type": "execute_result"
    }
   ],
   "source": [
    "len(list(blank.getdata()))"
   ]
  },
  {
   "cell_type": "code",
   "execution_count": 6,
   "id": "559b07a1",
   "metadata": {},
   "outputs": [
    {
     "data": {
      "text/plain": [
       "[1377, 1633]"
      ]
     },
     "execution_count": 6,
     "metadata": {},
     "output_type": "execute_result"
    }
   ],
   "source": [
    "triangle_points()"
   ]
  },
  {
   "cell_type": "code",
   "execution_count": 7,
   "id": "acfb219e",
   "metadata": {},
   "outputs": [
    {
     "name": "stdout",
     "output_type": "stream",
     "text": [
      "4300440523.910603\n"
     ]
    }
   ],
   "source": [
    "print(difference(original_img, blank))"
   ]
  },
  {
   "cell_type": "code",
   "execution_count": 8,
   "id": "22014292",
   "metadata": {},
   "outputs": [],
   "source": [
    "# newImageArray = []\n",
    "# for i in range(smallOriginalSize):\n",
    "#     current = imageList[i]\n",
    "#     newImageArray.append(randomColor(current[0],current[1],current[2]))\n",
    "colorTriangle(blank)\n",
    "blank.save('output.png')\n",
    "blank.show()"
   ]
  },
  {
   "cell_type": "markdown",
   "id": "f3c5250f",
   "metadata": {},
   "source": [
    "# Genetic Algorithm "
   ]
  },
  {
   "cell_type": "code",
   "execution_count": 9,
   "id": "5c155b89",
   "metadata": {},
   "outputs": [],
   "source": [
    "population = []"
   ]
  },
  {
   "cell_type": "code",
   "execution_count": 12,
   "id": "a807a117",
   "metadata": {},
   "outputs": [],
   "source": [
    "for i in range(2):\n",
    "    currentImage = Image.new('RGB', (original_img.width, original_img.height), (255, 255, 255))\n",
    "    colorTriangle(currentImage)\n",
    "    score = difference(original_img,currentImage)\n",
    "    population.append({'score':score,'image':currentImage})\n",
    "# blank.save('output.png')\n",
    "# blank.show()"
   ]
  },
  {
   "cell_type": "code",
   "execution_count": 13,
   "id": "6b56cb2e",
   "metadata": {},
   "outputs": [],
   "source": [
    "sorted_data = sorted(population, key=lambda x: x['score'])\n",
    "sorted_data.reverse()"
   ]
  },
  {
   "cell_type": "code",
   "execution_count": 14,
   "id": "533354fc",
   "metadata": {},
   "outputs": [],
   "source": [
    "parent1 = sorted_data[0]\n",
    "parent2 = sorted_data[1]"
   ]
  },
  {
   "cell_type": "code",
   "execution_count": 73,
   "id": "215f8a47",
   "metadata": {
    "scrolled": true
   },
   "outputs": [],
   "source": [
    "parent1Values = parent1['image'].getdata()\n",
    "parent2Values = parent2['image'].getdata()\n",
    "rnge = 255\n",
    "\n",
    "# Crossover\n",
    "def crossover(parent1, parent2):\n",
    "    crossover_point = np.random.randint(0, int(len(parent1)))\n",
    "    p1 = np.array(parent1)\n",
    "    p2 = np.array(parent2)\n",
    "    child1 = p1[:int(crossover_point/2)] + p2[int(crossover_point/2):]\n",
    "    child2 = p2[:int(crossover_point/2)] + p1[int(crossover_point/2):]\n",
    "    return child1, child2\n",
    "\n",
    "def uniform_crossover(parent1, parent2):\n",
    "    max_length = max(len(parent1), len(parent2))\n",
    "    child1 = []\n",
    "    child2 = []\n",
    "    for i in range(max_length):\n",
    "        if i < len(parent1) and i < len(parent2):\n",
    "            if random.random() < 0.5:\n",
    "                child1.append(parent1[i])\n",
    "                child2.append(parent2[i])\n",
    "            else:\n",
    "                child1.append(parent2[i])\n",
    "                child2.append(parent1[i])\n",
    "        elif i < len(parent1):\n",
    "            child1.append(parent1[i])\n",
    "        else:\n",
    "            child2.append(parent2[i])\n",
    "    return child1, child2\n",
    "\n",
    "# Mutation\n",
    "def mutate(individual, mutation_rate):\n",
    "    for i in range(len(individual)):\n",
    "        if np.random.rand() < mutation_rate:\n",
    "            new_value = (np.random.randint(0, 256), np.random.randint(0, 256), np.random.randint(0, 256))\n",
    "            individual[i] = new_value\n",
    "    return individual\n",
    "\n"
   ]
  },
  {
   "cell_type": "code",
   "execution_count": 113,
   "id": "518142b7",
   "metadata": {},
   "outputs": [],
   "source": [
    "child1,child2 = uniform_crossover(original_img.getdata(),parent1Values)"
   ]
  },
  {
   "cell_type": "code",
   "execution_count": 107,
   "id": "4339bcd8",
   "metadata": {},
   "outputs": [],
   "source": [
    "mutedChild1 = mutate(child1,2)"
   ]
  },
  {
   "cell_type": "code",
   "execution_count": 109,
   "id": "6be269d8",
   "metadata": {},
   "outputs": [],
   "source": [
    "mutedChild2 = mutate(child2,2)"
   ]
  },
  {
   "cell_type": "code",
   "execution_count": 114,
   "id": "e3aeddc6",
   "metadata": {},
   "outputs": [],
   "source": [
    "\n",
    "# Create a blank image\n",
    "blankChild = Image.new('RGB', (50, 50), (255, 255, 255))\n",
    "\n",
    "# Create a pixel array\n",
    "\n",
    "# Add the pixel array to the blank image\n",
    "blank.putdata(child1)\n",
    "\n",
    "# Save or display the image\n",
    "blank.save('output.png')\n",
    "blank.show()"
   ]
  }
 ],
 "metadata": {
  "kernelspec": {
   "display_name": "Python 3",
   "language": "python",
   "name": "python3"
  },
  "language_info": {
   "codemirror_mode": {
    "name": "ipython",
    "version": 3
   },
   "file_extension": ".py",
   "mimetype": "text/x-python",
   "name": "python",
   "nbconvert_exporter": "python",
   "pygments_lexer": "ipython3",
   "version": "3.8.8"
  }
 },
 "nbformat": 4,
 "nbformat_minor": 5
}
