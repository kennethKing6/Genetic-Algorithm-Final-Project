{
 "cells": [
  {
   "cell_type": "code",
   "execution_count": 2,
   "id": "a376445b",
   "metadata": {},
   "outputs": [],
   "source": [
    "from random import randint\n",
    "import os\n",
    "import numpy as np\n",
    "from PIL import Image, ImageDraw, ImageFile"
   ]
  },
  {
   "cell_type": "code",
   "execution_count": 1,
   "id": "a23be584",
   "metadata": {},
   "outputs": [],
   "source": [
    "# Crossover\n",
    "def crossover(parent1, parent2):\n",
    "    crossover_point = np.random.randint(0, len(parent1))\n",
    "    child1 = np.concatenate((parent1[:crossover_point], parent2[crossover_point:]))\n",
    "    child2 = np.concatenate((parent2[:crossover_point], parent1[crossover_point:]))\n",
    "    return child1, child2\n",
    "\n",
    "# Mutation\n",
    "def mutate(individual, mutation_rate):\n",
    "    for i in range(len(individual)):\n",
    "        if np.random.rand() < mutation_rate:\n",
    "            individual[i] = np.random.randint(0, 256, size=3)\n",
    "    return individual"
   ]
  },
  {
   "cell_type": "code",
   "execution_count": 3,
   "id": "9bb736ca",
   "metadata": {},
   "outputs": [],
   "source": [
    "original_img = Image.open(\"Mona_Lisa.jpg\")"
   ]
  },
  {
   "cell_type": "code",
   "execution_count": 12,
   "id": "3d094733",
   "metadata": {},
   "outputs": [],
   "source": [
    "original_img_length = len(list(original_img.getdata()))"
   ]
  },
  {
   "cell_type": "code",
   "execution_count": 22,
   "id": "5d051f05",
   "metadata": {},
   "outputs": [
    {
     "data": {
      "text/plain": [
       "12159315"
      ]
     },
     "execution_count": 22,
     "metadata": {},
     "output_type": "execute_result"
    }
   ],
   "source": [
    "# Define the length of the pixel array\n",
    "n = original_img_length  # For example, to create an array of 100 random pixels\n",
    "\n",
    "# Create an array of randomly generated pixels\n",
    "random_pixels = np.random.randint(0, 255, size=(n, 3), dtype=np.uint8)"
   ]
  },
  {
   "cell_type": "code",
   "execution_count": 31,
   "id": "dea75c92",
   "metadata": {},
   "outputs": [],
   "source": [
    "random_pixels = [tuple(pixel) for pixel in random_pixels]\n",
    "flat_triangle = [coord for point in random_pixels for coord in point]  # Convert to flat list\n",
    "\n",
    "# Create an image from the array\n"
   ]
  },
  {
   "cell_type": "code",
   "execution_count": null,
   "id": "c781e8a5",
   "metadata": {},
   "outputs": [],
   "source": [
    "blank = Image.new('RGB', (original_img_length, original_img_length), (255, 255, 255))\n",
    "D = ImageDraw.Draw(blank)\n",
    "D.polygon(flat_triangle, fill='green')  \n",
    "blank.save('output.png')\n",
    "blank.show()"
   ]
  },
  {
   "cell_type": "code",
   "execution_count": null,
   "id": "5d7f93ef",
   "metadata": {},
   "outputs": [],
   "source": []
  }
 ],
 "metadata": {
  "kernelspec": {
   "display_name": "Python 3",
   "language": "python",
   "name": "python3"
  },
  "language_info": {
   "codemirror_mode": {
    "name": "ipython",
    "version": 3
   },
   "file_extension": ".py",
   "mimetype": "text/x-python",
   "name": "python",
   "nbconvert_exporter": "python",
   "pygments_lexer": "ipython3",
   "version": "3.8.8"
  }
 },
 "nbformat": 4,
 "nbformat_minor": 5
}
